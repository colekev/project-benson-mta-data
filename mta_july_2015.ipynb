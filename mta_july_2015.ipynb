{
 "cells": [
  {
   "cell_type": "markdown",
   "metadata": {},
   "source": [
    "# Project Benson"
   ]
  },
  {
   "cell_type": "code",
   "execution_count": 103,
   "metadata": {
    "collapsed": true
   },
   "outputs": [],
   "source": [
    "import pandas as pd\n",
    "import numpy as np\n",
    "import matplotlib.pyplot as plt\n",
    "import datetime\n",
    "import seaborn as sns\n",
    "import calendar\n",
    "%matplotlib inline"
   ]
  },
  {
   "cell_type": "code",
   "execution_count": 739,
   "metadata": {
    "collapsed": false
   },
   "outputs": [],
   "source": [
    "# get links for july 2015\n",
    "link_prefix = \"http://web.mta.info/developers/data/nyct/turnstile/turnstile_\"\n",
    "dates = [150704, 150711, 150718, 150725]\n",
    "files = []\n",
    "\n",
    "for i in range(len(dates)):\n",
    "    files.append(link_prefix + str(dates[i]) + \".txt\")\n"
   ]
  },
  {
   "cell_type": "code",
   "execution_count": 740,
   "metadata": {
    "collapsed": false
   },
   "outputs": [],
   "source": [
    "# read data into pandas\n",
    "dfs = [pd.read_csv(f) for f in files]\n",
    "df = pd.concat(dfs)"
   ]
  },
  {
   "cell_type": "code",
   "execution_count": 742,
   "metadata": {
    "collapsed": false
   },
   "outputs": [],
   "source": [
    "# make columns lowercase and strip out spaces\n",
    "df.columns = map(lambda x: x.strip(), df.columns)\n",
    "df.columns = map(lambda x: x.lower(), df.columns)"
   ]
  },
  {
   "cell_type": "code",
   "execution_count": 756,
   "metadata": {
    "collapsed": false
   },
   "outputs": [
    {
     "data": {
      "text/plain": [
       "384"
      ]
     },
     "execution_count": 756,
     "metadata": {},
     "output_type": "execute_result"
    }
   ],
   "source": [
    "len(df.station.unique())"
   ]
  },
  {
   "cell_type": "code",
   "execution_count": 565,
   "metadata": {
    "collapsed": true
   },
   "outputs": [],
   "source": [
    "# list of focus stations based on income and college data\n",
    "stations = ['GRD CNTRL-42 ST', 'JAMAICA-179 ST', 'LEXINGTON AV/53', \n",
    "            'ROOSEVELT IS', 'SOUTH FERRY', 'WALL ST', 'HIGH ST', \n",
    "            'BOROUGH HALL/CT', 'JAY ST-METROTEC', 'YORK ST', \n",
    "            'QUEENSBORO PLZ', '34 ST-HERALD SQ', '77 ST', '68ST-HUNTER COL',\n",
    "            'RECTOR ST', '86 ST', 'CORTLANDT ST', '47-50 ST-ROCK', '72 ST',\n",
    "            '23 ST-5 AVE', '23 ST', '23 ST-6 AVE', '34 ST-PENN STA', \n",
    "            '28 ST-BROADWAY', '28 ST', '14 ST', '14 ST-UNION SQ', '14 ST-6 AVE', \n",
    "            'SPRING ST', 'PARK PLACE']"
   ]
  },
  {
   "cell_type": "code",
   "execution_count": 566,
   "metadata": {
    "collapsed": true
   },
   "outputs": [],
   "source": [
    "# filter for focus stations\n",
    "df_stations = df[df['station'].isin(stations)]"
   ]
  },
  {
   "cell_type": "code",
   "execution_count": 567,
   "metadata": {
    "collapsed": true
   },
   "outputs": [],
   "source": [
    "# prevent warnings going forward for slicing data\n",
    "df_stations.is_copy = False"
   ]
  },
  {
   "cell_type": "code",
   "execution_count": 568,
   "metadata": {
    "collapsed": false
   },
   "outputs": [],
   "source": [
    "#add datetime\n",
    "df_stations['datetime'] = pd.to_datetime(df_stations.date + ' ' + df_stations.time)"
   ]
  },
  {
   "cell_type": "code",
   "execution_count": 569,
   "metadata": {
    "collapsed": false
   },
   "outputs": [],
   "source": [
    "# split date.time into separate date and time\n",
    "df_stations['time'] = list(map(lambda x: x.time(), df_stations.datetime))\n",
    "df_stations['date'] = list(map(lambda x: x.date(), df_stations.datetime))"
   ]
  },
  {
   "cell_type": "code",
   "execution_count": 570,
   "metadata": {
    "collapsed": false
   },
   "outputs": [],
   "source": [
    "# add column for day of week\n",
    "df_stations['day_of_week'] = [calendar.day_name[i.weekday()] for i in df_stations.datetime ]"
   ]
  },
  {
   "cell_type": "code",
   "execution_count": 571,
   "metadata": {
    "collapsed": false
   },
   "outputs": [],
   "source": [
    "# function to calculate net entires and exits\n",
    "net_entries = []\n",
    "net_exits = []\n",
    "for i in range(len(df_stations['entries'])-1):\n",
    "    if df_stations.iat[i+1,2] == df_stations.iat[i,2] and df_stations.iat[i+1,3] == df_stations.iat[i,3]:\n",
    "        net_entries.append(df_stations.iat[i+1,9] - df_stations.iat[i,9]) # use iat to find individual cells\n",
    "        net_exits.append(df_stations.iat[i+1,10] - df_stations.iat[i,10])\n",
    "    else:\n",
    "        net_entries.append(0)\n",
    "        net_exits.append(0)\n",
    "        \n",
    "net_entries.append(0)\n",
    "net_exits.append(0)"
   ]
  },
  {
   "cell_type": "code",
   "execution_count": 572,
   "metadata": {
    "collapsed": false
   },
   "outputs": [],
   "source": [
    "# similar function to calculate net time\n",
    "net_time = []\n",
    "\n",
    "for i in range(len(df_stations['time'])-1):\n",
    "    if df_stations.iat[i+1,2] == df_stations.iat[i,2] and df_stations.iat[i+1,3] == df_stations.iat[i,3]:\n",
    "        net_time.append((df_stations.iat[i+1,11] - df_stations.iat[i,11])) \n",
    "    else:\n",
    "        net_time.append(float(0))\n",
    "        \n",
    "net_time.append(float(0))"
   ]
  },
  {
   "cell_type": "code",
   "execution_count": 573,
   "metadata": {
    "collapsed": false
   },
   "outputs": [],
   "source": [
    "# create new columns for net entries, exits and time\n",
    "df_stations['net_entries'] = net_entries\n",
    "df_stations['net_exits'] = net_exits\n",
    "df_stations['net_time'] = net_time"
   ]
  },
  {
   "cell_type": "code",
   "execution_count": 574,
   "metadata": {
    "collapsed": true
   },
   "outputs": [],
   "source": [
    "# filter out entries/exits that are either too high or negative\n",
    "df_stations = df_stations[df_stations['net_entries'] > 0]\n",
    "df_stations = df_stations[df_stations['net_entries'] < 5000]\n",
    "df_stations = df_stations[df_stations['net_exits'] < 5000]\n",
    "df_stations = df_stations[df_stations['net_exits'] > 0]"
   ]
  },
  {
   "cell_type": "code",
   "execution_count": 575,
   "metadata": {
    "collapsed": true
   },
   "outputs": [],
   "source": [
    "# calulate total traffic number\n",
    "df_stations['traffic'] = df_stations.net_entries + df_stations.net_exits"
   ]
  },
  {
   "cell_type": "code",
   "execution_count": 626,
   "metadata": {
    "collapsed": false
   },
   "outputs": [],
   "source": [
    "# group for total traffic for each station/linename combo\n",
    "day_traffic = df_stations.groupby(['station', 'linename']).sum().sort_values('traffic', ascending = False)"
   ]
  },
  {
   "cell_type": "code",
   "execution_count": 627,
   "metadata": {
    "collapsed": true
   },
   "outputs": [],
   "source": [
    "# reset index to put groupby object in better format\n",
    "day_traffic = day_traffic.reset_index()"
   ]
  },
  {
   "cell_type": "code",
   "execution_count": 643,
   "metadata": {
    "collapsed": true
   },
   "outputs": [],
   "source": [
    "# create station linename column for graph\n",
    "traffic_density['stat_line'] = day_traffic.station + ' ' + day_traffic.linename"
   ]
  },
  {
   "cell_type": "code",
   "execution_count": 647,
   "metadata": {
    "collapsed": false
   },
   "outputs": [
    {
     "name": "stderr",
     "output_type": "stream",
     "text": [
      "/Users/colekev/anaconda3/lib/python3.5/site-packages/ipykernel/__main__.py:1: FutureWarning: sort(columns=....) is deprecated, use sort_values(by=.....)\n",
      "  if __name__ == '__main__':\n"
     ]
    }
   ],
   "source": [
    "traffic_density = traffic_density.sort(['traffic'], ascending = False)"
   ]
  },
  {
   "cell_type": "code",
   "execution_count": 649,
   "metadata": {
    "collapsed": false
   },
   "outputs": [
    {
     "data": {
      "text/plain": [
       "<matplotlib.text.Text at 0x1674600f0>"
      ]
     },
     "execution_count": 649,
     "metadata": {},
     "output_type": "execute_result"
    },
    {
     "data": {
      "image/png": "[encoded data removed]",
      "text/plain": [
       "<matplotlib.figure.Figure at 0x160854128>"
      ]
     },
     "metadata": {},
     "output_type": "display_data"
    }
   ],
   "source": [
    "sns.factorplot('stat_line', 'traffic', data = df2, kind = 'bar', aspect = 2)\n",
    "plt.xticks(rotation=90)\n",
    "plt.xlabel('Station & Linename')\n",
    "plt.ylabel('Traffic')\n",
    "plt.title(\"Total Traffic\")"
   ]
  },
  {
   "cell_type": "code",
   "execution_count": 443,
   "metadata": {
    "collapsed": false
   },
   "outputs": [
    {
     "data": {
      "text/plain": [
       "<matplotlib.text.Text at 0x142d67748>"
      ]
     },
     "execution_count": 443,
     "metadata": {},
     "output_type": "execute_result"
    },
    {
     "data": {
      "image/png": "[encoded data removed]",
      "text/plain": [
       "<matplotlib.figure.Figure at 0x1264bbe48>"
      ]
     },
     "metadata": {},
     "output_type": "display_data"
    }
   ],
   "source": [
    "day_traffic.plot(kind='bar', x='day_of_week', y='traffic')\n",
    "plt.xlabel('Day of Week')"
   ]
  },
  {
   "cell_type": "code",
   "execution_count": 459,
   "metadata": {
    "collapsed": false
   },
   "outputs": [],
   "source": [
    "stations = df_stations.groupby(by =['station', 'linename', '']).sum().sort_values('traffic', ascending = False)"
   ]
  },
  {
   "cell_type": "code",
   "execution_count": 460,
   "metadata": {
    "collapsed": false
   },
   "outputs": [],
   "source": [
    "stations = stations.reset_index()"
   ]
  },
  {
   "cell_type": "code",
   "execution_count": 461,
   "metadata": {
    "collapsed": false
   },
   "outputs": [
    {
     "name": "stderr",
     "output_type": "stream",
     "text": [
      "/Users/colekev/anaconda3/lib/python3.5/site-packages/ipykernel/__main__.py:1: FutureWarning: sort(columns=....) is deprecated, use sort_values(by=.....)\n",
      "  if __name__ == '__main__':\n"
     ]
    }
   ],
   "source": [
    "top_stations = stations.sort('traffic', ascending = False)"
   ]
  },
  {
   "cell_type": "code",
   "execution_count": 463,
   "metadata": {
    "collapsed": false
   },
   "outputs": [
    {
     "data": {
      "text/html": [
       "<div>\n",
       "<table border=\"1\" class=\"dataframe\">\n",
       "  <thead>\n",
       "    <tr style=\"text-align: right;\">\n",
       "      <th></th>\n",
       "      <th>station</th>\n",
       "      <th>linename</th>\n",
       "      <th>entries</th>\n",
       "      <th>exits</th>\n",
       "      <th>net_entries</th>\n",
       "      <th>net_exits</th>\n",
       "      <th>traffic</th>\n",
       "    </tr>\n",
       "  </thead>\n",
       "  <tbody>\n",
       "    <tr>\n",
       "      <th>0</th>\n",
       "      <td>34 ST-HERALD SQ</td>\n",
       "      <td>BDFMNQR</td>\n",
       "      <td>70551495230</td>\n",
       "      <td>46125938674</td>\n",
       "      <td>2844340</td>\n",
       "      <td>2587280</td>\n",
       "      <td>5431620</td>\n",
       "    </tr>\n",
       "    <tr>\n",
       "      <th>1</th>\n",
       "      <td>34 ST-PENN STA</td>\n",
       "      <td>ACE</td>\n",
       "      <td>243559065385</td>\n",
       "      <td>89694762702</td>\n",
       "      <td>2046226</td>\n",
       "      <td>1893490</td>\n",
       "      <td>3939716</td>\n",
       "    </tr>\n",
       "    <tr>\n",
       "      <th>2</th>\n",
       "      <td>14 ST-UNION SQ</td>\n",
       "      <td>LNQR456</td>\n",
       "      <td>187821956091</td>\n",
       "      <td>71364751535</td>\n",
       "      <td>1766651</td>\n",
       "      <td>1517637</td>\n",
       "      <td>3284288</td>\n",
       "    </tr>\n",
       "    <tr>\n",
       "      <th>3</th>\n",
       "      <td>86 ST</td>\n",
       "      <td>456</td>\n",
       "      <td>34086518703</td>\n",
       "      <td>30814799664</td>\n",
       "      <td>1509946</td>\n",
       "      <td>1362758</td>\n",
       "      <td>2872704</td>\n",
       "    </tr>\n",
       "    <tr>\n",
       "      <th>4</th>\n",
       "      <td>47-50 ST-ROCK</td>\n",
       "      <td>BDFM</td>\n",
       "      <td>39333106264</td>\n",
       "      <td>30881736655</td>\n",
       "      <td>1312048</td>\n",
       "      <td>1354337</td>\n",
       "      <td>2666385</td>\n",
       "    </tr>\n",
       "    <tr>\n",
       "      <th>5</th>\n",
       "      <td>34 ST-PENN STA</td>\n",
       "      <td>123ACE</td>\n",
       "      <td>30388278364</td>\n",
       "      <td>11850605744</td>\n",
       "      <td>1355076</td>\n",
       "      <td>941289</td>\n",
       "      <td>2296365</td>\n",
       "    </tr>\n",
       "    <tr>\n",
       "      <th>6</th>\n",
       "      <td>72 ST</td>\n",
       "      <td>123</td>\n",
       "      <td>16029749693</td>\n",
       "      <td>12345361481</td>\n",
       "      <td>909824</td>\n",
       "      <td>845173</td>\n",
       "      <td>1754997</td>\n",
       "    </tr>\n",
       "    <tr>\n",
       "      <th>7</th>\n",
       "      <td>14 ST-UNION SQ</td>\n",
       "      <td>456LNQR</td>\n",
       "      <td>21323452844</td>\n",
       "      <td>9581400754</td>\n",
       "      <td>867120</td>\n",
       "      <td>834179</td>\n",
       "      <td>1701299</td>\n",
       "    </tr>\n",
       "    <tr>\n",
       "      <th>8</th>\n",
       "      <td>34 ST-PENN STA</td>\n",
       "      <td>123</td>\n",
       "      <td>20715933684</td>\n",
       "      <td>18573161472</td>\n",
       "      <td>815248</td>\n",
       "      <td>857862</td>\n",
       "      <td>1673110</td>\n",
       "    </tr>\n",
       "    <tr>\n",
       "      <th>9</th>\n",
       "      <td>77 ST</td>\n",
       "      <td>6</td>\n",
       "      <td>210546001199</td>\n",
       "      <td>34688379112</td>\n",
       "      <td>793300</td>\n",
       "      <td>740500</td>\n",
       "      <td>1533800</td>\n",
       "    </tr>\n",
       "    <tr>\n",
       "      <th>10</th>\n",
       "      <td>JAY ST-METROTEC</td>\n",
       "      <td>ACF</td>\n",
       "      <td>41644830655</td>\n",
       "      <td>10147874278</td>\n",
       "      <td>836609</td>\n",
       "      <td>503339</td>\n",
       "      <td>1339948</td>\n",
       "    </tr>\n",
       "    <tr>\n",
       "      <th>11</th>\n",
       "      <td>BOROUGH HALL/CT</td>\n",
       "      <td>2345R</td>\n",
       "      <td>18837884064</td>\n",
       "      <td>11595502435</td>\n",
       "      <td>798632</td>\n",
       "      <td>535646</td>\n",
       "      <td>1334278</td>\n",
       "    </tr>\n",
       "    <tr>\n",
       "      <th>12</th>\n",
       "      <td>WALL ST</td>\n",
       "      <td>23</td>\n",
       "      <td>17168918982</td>\n",
       "      <td>15038151553</td>\n",
       "      <td>589699</td>\n",
       "      <td>579042</td>\n",
       "      <td>1168741</td>\n",
       "    </tr>\n",
       "    <tr>\n",
       "      <th>13</th>\n",
       "      <td>68ST-HUNTER COL</td>\n",
       "      <td>6</td>\n",
       "      <td>18949084730</td>\n",
       "      <td>16039054691</td>\n",
       "      <td>691348</td>\n",
       "      <td>445443</td>\n",
       "      <td>1136791</td>\n",
       "    </tr>\n",
       "    <tr>\n",
       "      <th>14</th>\n",
       "      <td>28 ST</td>\n",
       "      <td>6</td>\n",
       "      <td>249494941330</td>\n",
       "      <td>326314797260</td>\n",
       "      <td>545792</td>\n",
       "      <td>537050</td>\n",
       "      <td>1082842</td>\n",
       "    </tr>\n",
       "    <tr>\n",
       "      <th>15</th>\n",
       "      <td>23 ST</td>\n",
       "      <td>6</td>\n",
       "      <td>341184288655</td>\n",
       "      <td>284321212513</td>\n",
       "      <td>544015</td>\n",
       "      <td>489213</td>\n",
       "      <td>1033228</td>\n",
       "    </tr>\n",
       "  </tbody>\n",
       "</table>\n",
       "</div>"
      ],
      "text/plain": [
       "            station linename       entries         exits  net_entries  \\\n",
       "0   34 ST-HERALD SQ  BDFMNQR   70551495230   46125938674      2844340   \n",
       "1    34 ST-PENN STA      ACE  243559065385   89694762702      2046226   \n",
       "2    14 ST-UNION SQ  LNQR456  187821956091   71364751535      1766651   \n",
       "3             86 ST      456   34086518703   30814799664      1509946   \n",
       "4     47-50 ST-ROCK     BDFM   39333106264   30881736655      1312048   \n",
       "5    34 ST-PENN STA   123ACE   30388278364   11850605744      1355076   \n",
       "6             72 ST      123   16029749693   12345361481       909824   \n",
       "7    14 ST-UNION SQ  456LNQR   21323452844    9581400754       867120   \n",
       "8    34 ST-PENN STA      123   20715933684   18573161472       815248   \n",
       "9             77 ST        6  210546001199   34688379112       793300   \n",
       "10  JAY ST-METROTEC      ACF   41644830655   10147874278       836609   \n",
       "11  BOROUGH HALL/CT    2345R   18837884064   11595502435       798632   \n",
       "12          WALL ST       23   17168918982   15038151553       589699   \n",
       "13  68ST-HUNTER COL        6   18949084730   16039054691       691348   \n",
       "14            28 ST        6  249494941330  326314797260       545792   \n",
       "15            23 ST        6  341184288655  284321212513       544015   \n",
       "\n",
       "    net_exits  traffic  \n",
       "0     2587280  5431620  \n",
       "1     1893490  3939716  \n",
       "2     1517637  3284288  \n",
       "3     1362758  2872704  \n",
       "4     1354337  2666385  \n",
       "5      941289  2296365  \n",
       "6      845173  1754997  \n",
       "7      834179  1701299  \n",
       "8      857862  1673110  \n",
       "9      740500  1533800  \n",
       "10     503339  1339948  \n",
       "11     535646  1334278  \n",
       "12     579042  1168741  \n",
       "13     445443  1136791  \n",
       "14     537050  1082842  \n",
       "15     489213  1033228  "
      ]
     },
     "execution_count": 463,
     "metadata": {},
     "output_type": "execute_result"
    }
   ],
   "source": [
    "top_stations.head(16)"
   ]
  },
  {
   "cell_type": "code",
   "execution_count": null,
   "metadata": {
    "collapsed": true
   },
   "outputs": [],
   "source": [
    "stations = four_hour.groupby(by =['station', 'linename', 'day_of_week','time']).sum().sort_values('traffic', ascending = False)"
   ]
  },
  {
   "cell_type": "code",
   "execution_count": 464,
   "metadata": {
    "collapsed": true
   },
   "outputs": [],
   "source": [
    "stations.to_csv('~/Desktop/top_15_stations.csv')"
   ]
  },
  {
   "cell_type": "code",
   "execution_count": 533,
   "metadata": {
    "collapsed": false
   },
   "outputs": [],
   "source": [
    "station = \"14 ST-UNION SQ\"\n",
    "linename = \"23\"\n",
    "\n",
    "station = df_stations[df_stations['station'] == station]\n",
    "#station = station[station['linename'] == linename]\n"
   ]
  },
  {
   "cell_type": "code",
   "execution_count": 534,
   "metadata": {
    "collapsed": true
   },
   "outputs": [],
   "source": [
    "day_traffic = station.groupby(['mid_time']).sum().sort_values('traffic', ascending = False)"
   ]
  },
  {
   "cell_type": "code",
   "execution_count": 535,
   "metadata": {
    "collapsed": true
   },
   "outputs": [],
   "source": [
    "day_traffic = day_traffic.reset_index()"
   ]
  },
  {
   "cell_type": "code",
   "execution_count": 537,
   "metadata": {
    "collapsed": false
   },
   "outputs": [
    {
     "data": {
      "text/plain": [
       "<matplotlib.text.Text at 0x1262a08d0>"
      ]
     },
     "execution_count": 537,
     "metadata": {},
     "output_type": "execute_result"
    },
    {
     "data": {
      "image/png": "[encoded data removed]",
      "text/plain": [
       "<matplotlib.figure.Figure at 0x128303390>"
      ]
     },
     "metadata": {},
     "output_type": "display_data"
    }
   ],
   "source": [
    "day_traffic.plot(x='mid_time', y='traffic')\n",
    "plt.xlabel('Day of Week')\n",
    "plt.title(\"14 ST-UNION SQ\")"
   ]
  }
 ],
 "metadata": {
  "kernelspec": {
   "display_name": "Python 3",
   "language": "python",
   "name": "python3"
  },
  "language_info": {
   "codemirror_mode": {
    "name": "ipython",
    "version": 3
   },
   "file_extension": ".py",
   "mimetype": "text/x-python",
   "name": "python",
   "nbconvert_exporter": "python",
   "pygments_lexer": "ipython3",
   "version": "3.5.1"
  }
 },
 "nbformat": 4,
 "nbformat_minor": 0
}
